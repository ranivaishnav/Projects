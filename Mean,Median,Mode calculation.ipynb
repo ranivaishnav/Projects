{
 "cells": [
  {
   "cell_type": "markdown",
   "id": "6eb009a2",
   "metadata": {},
   "source": [
    "### Mean (Arithmetic mean)\n",
    "\n",
    "* To calculate the arithmetic mean or average of a set of data, we must first sum up all the data values divide the result by the number of values  \n",
    "\n",
    "### Median\n",
    "\n",
    "* The middle value of the ordered data is the median value, the data must be put in order first. \n",
    "\n",
    "### Mode\n",
    "\n",
    "* The most frequently occured value in the data is the Mode "
   ]
  },
  {
   "cell_type": "markdown",
   "id": "a690ea51",
   "metadata": {},
   "source": [
    "### Mean calculation using py"
   ]
  },
  {
   "cell_type": "code",
   "execution_count": 26,
   "id": "a53c3f50",
   "metadata": {},
   "outputs": [
    {
     "name": "stdout",
     "output_type": "stream",
     "text": [
      "8.0\n"
     ]
    }
   ],
   "source": [
    "list1 = [1,2,3,4,5,6,7,8,9,10,11,12,13,14,15]\n",
    "mean = sum(list1)/len(list1)\n",
    "print(mean)"
   ]
  },
  {
   "cell_type": "markdown",
   "id": "5760c26e",
   "metadata": {},
   "source": [
    "### Median calculation using py\n",
    "\n",
    "There are two different ways of calculating the median value\n",
    "\n",
    "1. When the number of values is even -- Median  = [(n/2)th term + {(n/2)+1}th]/2\n",
    "\n",
    "\n",
    "2. When the number of values is odd -- Median = {(n+1)/2}th term"
   ]
  },
  {
   "cell_type": "code",
   "execution_count": 45,
   "id": "a6e253f7",
   "metadata": {},
   "outputs": [],
   "source": [
    "list1 = [12, 16, 10, 20, 12, 30, 25, 23, 24, 21]\n",
    "# list1 = [12, 16, 20, 20, 12, 30, 25, 23, 24, 20]\n",
    "list1.sort()"
   ]
  },
  {
   "cell_type": "code",
   "execution_count": 46,
   "id": "f258a497",
   "metadata": {},
   "outputs": [
    {
     "data": {
      "text/plain": [
       "[10, 12, 12, 16, 20, 21, 23, 24, 25, 30]"
      ]
     },
     "execution_count": 46,
     "metadata": {},
     "output_type": "execute_result"
    }
   ],
   "source": [
    "list1"
   ]
  },
  {
   "cell_type": "code",
   "execution_count": 47,
   "id": "5f91ba92",
   "metadata": {},
   "outputs": [
    {
     "name": "stdout",
     "output_type": "stream",
     "text": [
      "20.5\n"
     ]
    }
   ],
   "source": [
    "if len(list1)%2 !=0:\n",
    "    median = list1[len(list1)//2]\n",
    "else:\n",
    "    m1 = list1[len(list1)//2-1]\n",
    "    m2 = list1[len(list1)//2]\n",
    "    median = (m1+m2)/2\n",
    "print(median)"
   ]
  },
  {
   "cell_type": "code",
   "execution_count": 48,
   "id": "05d8781b",
   "metadata": {},
   "outputs": [
    {
     "name": "stdout",
     "output_type": "stream",
     "text": [
      "20\n",
      "21\n"
     ]
    }
   ],
   "source": [
    "print(m1)\n",
    "print(m2)"
   ]
  },
  {
   "cell_type": "code",
   "execution_count": 50,
   "id": "f86779de",
   "metadata": {},
   "outputs": [
    {
     "data": {
      "text/plain": [
       "20.5"
      ]
     },
     "execution_count": 50,
     "metadata": {},
     "output_type": "execute_result"
    }
   ],
   "source": [
    "(m1+m2)/2"
   ]
  },
  {
   "cell_type": "markdown",
   "id": "7d0a9b06",
   "metadata": {},
   "source": [
    "### Mode "
   ]
  },
  {
   "cell_type": "code",
   "execution_count": 54,
   "id": "924ff509",
   "metadata": {},
   "outputs": [
    {
     "name": "stdout",
     "output_type": "stream",
     "text": [
      "7\n"
     ]
    }
   ],
   "source": [
    "list2= [1,2,3,5,6,7,3,7,3,7,7,4,6,7,4,6]\n",
    "frequency = {}\n",
    "\n",
    "for i in list2:\n",
    "    frequency.setdefault(i,0)\n",
    "    frequency[i]+=1\n",
    "    \n",
    "count = max(frequency.values())\n",
    "\n",
    "for i,j in frequency.items():\n",
    "    if j==count:\n",
    "        mode = i\n",
    "        \n",
    "print(mode)"
   ]
  },
  {
   "cell_type": "markdown",
   "id": "a3642f1d",
   "metadata": {},
   "source": [
    "here, in the first place, going through the list one by one, to keep track of how many times number appear in the list, saving in a dictionary frequency.\n",
    "\n",
    "after counting, we will find out which number appeared the most, finding the highest count using max function.\n",
    "\n",
    "Later, we go through numbers and the counts in the dictionary.\n",
    "if the count of a number matches with the maximum count, that is the mode"
   ]
  }
 ],
 "metadata": {
  "kernelspec": {
   "display_name": "Python 3 (ipykernel)",
   "language": "python",
   "name": "python3"
  },
  "language_info": {
   "codemirror_mode": {
    "name": "ipython",
    "version": 3
   },
   "file_extension": ".py",
   "mimetype": "text/x-python",
   "name": "python",
   "nbconvert_exporter": "python",
   "pygments_lexer": "ipython3",
   "version": "3.10.9"
  }
 },
 "nbformat": 4,
 "nbformat_minor": 5
}
