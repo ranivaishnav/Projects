{
 "cells": [
  {
   "cell_type": "code",
   "execution_count": 7,
   "id": "2e0be2b2",
   "metadata": {},
   "outputs": [
    {
     "name": "stdout",
     "output_type": "stream",
     "text": [
      "Enter the username: Rani\n",
      "Enter the password········\n",
      "Enter the password again:········\n",
      "Enter the password again:········\n",
      "Enter the password again:········\n",
      "Enter the password again:········\n",
      "Enter the password again:········\n",
      "Enter the password again:········\n",
      "Enter the password again:········\n",
      "Verified\n"
     ]
    }
   ],
   "source": [
    "import getpass\n",
    "\n",
    "database= {'Rani':'12345', 'vaish':'rvaishnav1111','kp':'kapi'}\n",
    "username = input('Enter the username: ')\n",
    "password = getpass.getpass('Enter the password')\n",
    "\n",
    "for i in database.keys():\n",
    "    if username ==i:\n",
    "        while password!= database.get(i):\n",
    "            password = getpass.getpass('Enter the password again:')\n",
    "        print('Verified')\n",
    "        break\n",
    "    else:\n",
    "        print('Username or password is wrong')\n",
    "        break"
   ]
  },
  {
   "cell_type": "raw",
   "id": "3c88ae8d",
   "metadata": {},
   "source": [
    "Here if the entered username is correct and the password is wrong then it will ask to re-enter the password again untill it get verified. then it will break the loop\n",
    "\n",
    "if the entered username is wrong and the password entered is either correct or wrong, it will print \"username or password is wrong\""
   ]
  }
 ],
 "metadata": {
  "kernelspec": {
   "display_name": "Python 3 (ipykernel)",
   "language": "python",
   "name": "python3"
  },
  "language_info": {
   "codemirror_mode": {
    "name": "ipython",
    "version": 3
   },
   "file_extension": ".py",
   "mimetype": "text/x-python",
   "name": "python",
   "nbconvert_exporter": "python",
   "pygments_lexer": "ipython3",
   "version": "3.10.9"
  }
 },
 "nbformat": 4,
 "nbformat_minor": 5
}
