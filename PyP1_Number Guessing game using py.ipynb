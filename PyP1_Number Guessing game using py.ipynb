{
 "cells": [
  {
   "cell_type": "markdown",
   "id": "7c55c1c4",
   "metadata": {},
   "source": [
    "### Using Basic Python - P1"
   ]
  },
  {
   "cell_type": "code",
   "execution_count": 1,
   "id": "2e249601",
   "metadata": {},
   "outputs": [],
   "source": [
    "import random"
   ]
  },
  {
   "cell_type": "code",
   "execution_count": 7,
   "id": "62a54d23",
   "metadata": {},
   "outputs": [
    {
     "name": "stdout",
     "output_type": "stream",
     "text": [
      "Enter a number :3\n",
      "Too low\n",
      "Enter a number again: 5\n",
      "Too low\n",
      "Enter a number again: 9\n",
      "Too low\n",
      "Enter a number again: 15\n",
      "Too high\n",
      "Too high try with other number: 14\n",
      "Too high\n",
      "Too high try with other number: 13\n",
      "Too high\n",
      "Too high try with other number: 12\n",
      "Too high\n",
      "Too high try with other number: 11\n",
      "Yay!, you have guessed a correct number\n"
     ]
    }
   ],
   "source": [
    "n = random.randrange(1,15)\n",
    "guess = int(input('Enter a number :'))\n",
    "\n",
    "while n!=guess:\n",
    "    if guess < n:\n",
    "        print('Too low')\n",
    "        guess = int(input('Enter a number again: '))\n",
    "    elif guess > n:\n",
    "        print('Too high')\n",
    "        guess = int(input('Too high try with other number: '))\n",
    "    else:\n",
    "        break\n",
    "\n",
    "        \n",
    "print('Yay!, you have guessed a correct number')"
   ]
  },
  {
   "cell_type": "markdown",
   "id": "81daa4c2",
   "metadata": {},
   "source": [
    "Here, the program selects a random number in the given range, then user have to guess the correct number.\n",
    "\n",
    "if the guessed number is less the random number selected by the program, it will print 'Too low' and again asks to print again, \n",
    "if the guessed number is high, then it will print 'too high', and again asks to print, it will be in while loop, it will run untill the user guess the correct number\n",
    "\n",
    "once the correct number guessed by user it will print 'Yay!, you have guessed a correct number'\n",
    "\n",
    "Thank you!"
   ]
  },
  {
   "cell_type": "code",
   "execution_count": null,
   "id": "9317a373",
   "metadata": {},
   "outputs": [],
   "source": []
  }
 ],
 "metadata": {
  "kernelspec": {
   "display_name": "Python 3 (ipykernel)",
   "language": "python",
   "name": "python3"
  },
  "language_info": {
   "codemirror_mode": {
    "name": "ipython",
    "version": 3
   },
   "file_extension": ".py",
   "mimetype": "text/x-python",
   "name": "python",
   "nbconvert_exporter": "python",
   "pygments_lexer": "ipython3",
   "version": "3.10.9"
  }
 },
 "nbformat": 4,
 "nbformat_minor": 5
}
